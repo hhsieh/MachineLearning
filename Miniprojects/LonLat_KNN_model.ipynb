{
 "cells": [
  {
   "cell_type": "code",
   "execution_count": 6,
   "metadata": {
    "collapsed": true
   },
   "outputs": [],
   "source": [
    "import json\n",
    "data = []\n",
    "with open('yelp_data.json') as f:\n",
    "    for line in f:\n",
    "        data.append(json.loads(line))\n",
    "        "
   ]
  },
  {
   "cell_type": "code",
   "execution_count": 7,
   "metadata": {
    "collapsed": false
   },
   "outputs": [
    {
     "name": "stdout",
     "output_type": "stream",
     "text": [
      "[3.5, 4.0, 4.0, 4.5, 4.0, 1.5, 2.0, 2.5, 4.5, 3.5]\n"
     ]
    }
   ],
   "source": [
    "stars = [data[i].values()[10] for i in range(len(data))]\n",
    "print(stars[:10])"
   ]
  },
  {
   "cell_type": "code",
   "execution_count": 8,
   "metadata": {
    "collapsed": false
   },
   "outputs": [
    {
     "name": "stdout",
     "output_type": "stream",
     "text": [
      "[-111.983758, -89.335844, -89.353437, -89.374983, -89.3437217, -89.3229199, -89.2985442, -89.294175, -89.299119, -89.303789]\n"
     ]
    }
   ],
   "source": [
    "longitude = [data[i].values()[9] for i in range(len(data))]\n",
    "print(longitude[:10])"
   ]
  },
  {
   "cell_type": "code",
   "execution_count": 10,
   "metadata": {
    "collapsed": false
   },
   "outputs": [
    {
     "name": "stdout",
     "output_type": "stream",
     "text": [
      "[33.499313, 43.238893, 43.252267, 43.251045, 43.2408748, 42.9685074, 43.0303561, 43.014093, 43.017124, 43.017701]\n"
     ]
    }
   ],
   "source": [
    "latitude = [data[i].values()[11] for i in range(len(data))]\n",
    "print(latitude[:10])"
   ]
  },
  {
   "cell_type": "code",
   "execution_count": 11,
   "metadata": {
    "collapsed": false
   },
   "outputs": [
    {
     "data": {
      "text/html": [
       "<div>\n",
       "<table border=\"1\" class=\"dataframe\">\n",
       "  <thead>\n",
       "    <tr style=\"text-align: right;\">\n",
       "      <th></th>\n",
       "      <th>latitude</th>\n",
       "      <th>longitude</th>\n",
       "      <th>star</th>\n",
       "    </tr>\n",
       "  </thead>\n",
       "  <tbody>\n",
       "    <tr>\n",
       "      <th>0</th>\n",
       "      <td>33.499313</td>\n",
       "      <td>33.499313</td>\n",
       "      <td>3.5</td>\n",
       "    </tr>\n",
       "    <tr>\n",
       "      <th>1</th>\n",
       "      <td>43.238893</td>\n",
       "      <td>43.238893</td>\n",
       "      <td>4.0</td>\n",
       "    </tr>\n",
       "    <tr>\n",
       "      <th>2</th>\n",
       "      <td>43.252267</td>\n",
       "      <td>43.252267</td>\n",
       "      <td>4.0</td>\n",
       "    </tr>\n",
       "    <tr>\n",
       "      <th>3</th>\n",
       "      <td>43.251045</td>\n",
       "      <td>43.251045</td>\n",
       "      <td>4.5</td>\n",
       "    </tr>\n",
       "    <tr>\n",
       "      <th>4</th>\n",
       "      <td>43.240875</td>\n",
       "      <td>43.240875</td>\n",
       "      <td>4.0</td>\n",
       "    </tr>\n",
       "  </tbody>\n",
       "</table>\n",
       "</div>"
      ],
      "text/plain": [
       "    latitude  longitude  star\n",
       "0  33.499313  33.499313   3.5\n",
       "1  43.238893  43.238893   4.0\n",
       "2  43.252267  43.252267   4.0\n",
       "3  43.251045  43.251045   4.5\n",
       "4  43.240875  43.240875   4.0"
      ]
     },
     "execution_count": 11,
     "metadata": {},
     "output_type": "execute_result"
    }
   ],
   "source": [
    "import pandas as pd\n",
    "data = pd.DataFrame({\"longitude\":longitude, \"latitude\":latitude, \"star\": stars})\n",
    "data[:5]"
   ]
  },
  {
   "cell_type": "code",
   "execution_count": 55,
   "metadata": {
    "collapsed": false
   },
   "outputs": [
    {
     "name": "stdout",
     "output_type": "stream",
     "text": [
      "[[33.499313000000001, 33.499313000000001], [43.238892999999997, 43.238892999999997], [43.252267000000003, 43.252267000000003], [43.251044999999998, 43.251044999999998], [43.2408748, 43.2408748], [42.9685074, 42.9685074], [43.030356099999999, 43.030356099999999], [43.014093000000003, 43.014093000000003], [43.017124000000003, 43.017124000000003], [43.017701000000002, 43.017701000000002], [43.015931000000002, 43.015931000000002], [43.013155699999999, 43.013155699999999], [43.014164000000001, 43.014164000000001], [43.017938700000002, 43.017938700000002], [43.093265000000002, 43.093265000000002], [43.090642000000003, 43.090642000000003], [43.0910607, 43.0910607], [43.110157100000002, 43.110157100000002], [43.077415000000002, 43.077415000000002], [43.096271000000002, 43.096271000000002], [43.103071900000003, 43.103071900000003], [43.100384099999999, 43.100384099999999], [43.0954975, 43.0954975], [43.092902899999999, 43.092902899999999], [43.091816000000001, 43.091816000000001], [43.096359, 43.096359], [43.107227000000002, 43.107227000000002], [43.101459800000001, 43.101459800000001], [43.075345267735997, 43.075345267735997], [43.103663300000001, 43.103663300000001], [43.100808000000001, 43.100808000000001], [43.090563099999997, 43.090563099999997], [43.090455900000002, 43.090455900000002], [43.095485500000002, 43.095485500000002], [43.103427000000003, 43.103427000000003], [43.090653000000003, 43.090653000000003], [43.082611, 43.082611], [43.0901268, 43.0901268], [43.095695999999997, 43.095695999999997], [43.095552599999998, 43.095552599999998], [43.087887000000002, 43.087887000000002], [43.108379900000003, 43.108379900000003], [43.106097200000001, 43.106097200000001], [43.092882000000003, 43.092882000000003], [43.095547199999999, 43.095547199999999], [43.099933499999999, 43.099933499999999], [43.092684599999998, 43.092684599999998], [43.107769300000001, 43.107769300000001], [43.096947399999998, 43.096947399999998], [43.094959000000003, 43.094959000000003], [43.104534999999998, 43.104534999999998], [43.099418399999998, 43.099418399999998], [43.095357, 43.095357], [43.097688300000002, 43.097688300000002], [43.057022699999997, 43.057022699999997], [43.092902899999999, 43.092902899999999], [43.095723999999997, 43.095723999999997], [43.075383000000002, 43.075383000000002], [43.057089900000001, 43.057089900000001], [43.084459600000002, 43.084459600000002]]\n"
     ]
    }
   ],
   "source": [
    "LonLat = [[data.loc[i][0], data.loc[i][1]] for i in range(len(data))]\n",
    "print(LonLat[:60])"
   ]
  },
  {
   "cell_type": "code",
   "execution_count": 56,
   "metadata": {
    "collapsed": false
   },
   "outputs": [
    {
     "name": "stdout",
     "output_type": "stream",
     "text": [
      "[3.5, 4.0, 4.0, 4.5, 4.0, 1.5, 2.0, 2.5, 4.5, 3.5, 5.0, 1.5, 3.5, 3.5, 4.0, 3.0, 3.0, 3.5, 4.5, 4.5, 5.0, 3.0, 3.0, 4.0, 3.5, 4.0, 3.5, 3.5, 3.0, 3.0, 5.0, 3.0, 3.0, 2.5, 3.5, 4.0, 5.0, 3.5, 2.5, 4.0, 2.5, 3.5, 3.5, 4.0, 1.5, 4.0, 4.5, 5.0, 4.0, 3.5, 2.0, 5.0, 5.0, 4.0, 3.5, 3.5, 4.0, 3.0, 3.0, 3.0]\n"
     ]
    }
   ],
   "source": [
    "star = [data.loc[i][2] for i in range(len(data))]\n",
    "print(stars[:60])"
   ]
  },
  {
   "cell_type": "code",
   "execution_count": 25,
   "metadata": {
    "collapsed": true
   },
   "outputs": [],
   "source": [
    "from sklearn.neighbors import KNeighborsRegressor"
   ]
  },
  {
   "cell_type": "code",
   "execution_count": 100,
   "metadata": {
    "collapsed": false
   },
   "outputs": [
    {
     "data": {
      "text/plain": [
       "NearestNeighbors(algorithm='auto', leaf_size=30, metric='minkowski',\n",
       "         metric_params=None, n_jobs=1, n_neighbors=9, p=2, radius=1.0)"
      ]
     },
     "execution_count": 100,
     "metadata": {},
     "output_type": "execute_result"
    }
   ],
   "source": [
    "neigh = NearestNeighbors(n_neighbors = 9)\n",
    "neigh.fit(LonLat,star)"
   ]
  },
  {
   "cell_type": "code",
   "execution_count": 94,
   "metadata": {
    "collapsed": false
   },
   "outputs": [],
   "source": [
    "from sklearn.base import BaseEstimator, RegressorMixin\n",
    "from sklearn.neighbors import KNeighborsRegressor\n",
    "from sklearn.cross_validation import KFold\n",
    "from sklearn.cross_validation import train_test_split\n"
   ]
  },
  {
   "cell_type": "code",
   "execution_count": 95,
   "metadata": {
    "collapsed": false
   },
   "outputs": [],
   "source": [
    "X_train, X_test, y_train, y_test = train_test_split(LonLat, star, test_size = 0.33, random_state = 42)"
   ]
  },
  {
   "cell_type": "code",
   "execution_count": 213,
   "metadata": {
    "collapsed": false
   },
   "outputs": [],
   "source": [
    "class LonLatClassifier(BaseEstimator, RegressorMixin):\n",
    "    def __init__(self, X_train, X_test, y_train, y_test):\n",
    "        self.xtrain = X_train\n",
    "        self.ytrain = y_train\n",
    "        self.xtest = X_test\n",
    "        self.ytest = y_test\n",
    "        pass\n",
    "    \n",
    "    def fit(self, X_train, y_train):\n",
    "        self.knn = KNeighborsRegressor(n_neighbors = 44)\n",
    "        self.fit = self.knn.fit(self.xtrain, self.ytrain)\n",
    "        return self\n",
    "    \n",
    "    def predict(self, X_test):\n",
    "        self.xtest = X_test\n",
    "        return self.knn.predict(self.xtest)\n",
    "        "
   ]
  },
  {
   "cell_type": "code",
   "execution_count": 214,
   "metadata": {
    "collapsed": false
   },
   "outputs": [
    {
     "name": "stdout",
     "output_type": "stream",
     "text": [
      "LonLatClassifier(X_test=None, X_train=None, y_test=None, y_train=None)\n"
     ]
    }
   ],
   "source": [
    "C = LonLatClassifier(X_train, X_test, y_train, y_test)\n",
    "Cfit = C.fit(X_train, y_train)\n",
    "print(Cfit)"
   ]
  },
  {
   "cell_type": "code",
   "execution_count": 215,
   "metadata": {
    "collapsed": false
   },
   "outputs": [
    {
     "data": {
      "text/plain": [
       "array([ 3.47727273,  3.68181818,  3.61363636, ...,  3.39772727,\n",
       "        3.43181818,  3.69318182])"
      ]
     },
     "execution_count": 215,
     "metadata": {},
     "output_type": "execute_result"
    }
   ],
   "source": [
    "C.predict(X_test)"
   ]
  },
  {
   "cell_type": "code",
   "execution_count": 216,
   "metadata": {
    "collapsed": false
   },
   "outputs": [
    {
     "data": {
      "text/plain": [
       "0.00071755972541587276"
      ]
     },
     "execution_count": 216,
     "metadata": {},
     "output_type": "execute_result"
    }
   ],
   "source": [
    "C.score(X_test, y_test)"
   ]
  }
 ],
 "metadata": {
  "kernelspec": {
   "display_name": "Python 2",
   "language": "python",
   "name": "python2"
  },
  "language_info": {
   "codemirror_mode": {
    "name": "ipython",
    "version": 2
   },
   "file_extension": ".py",
   "mimetype": "text/x-python",
   "name": "python",
   "nbconvert_exporter": "python",
   "pygments_lexer": "ipython2",
   "version": "2.7.11"
  }
 },
 "nbformat": 4,
 "nbformat_minor": 0
}
